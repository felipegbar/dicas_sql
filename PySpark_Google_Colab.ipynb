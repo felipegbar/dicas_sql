{
  "nbformat": 4,
  "nbformat_minor": 0,
  "metadata": {
    "colab": {
      "provenance": []
    },
    "kernelspec": {
      "name": "python3",
      "display_name": "Python 3"
    },
    "language_info": {
      "name": "python"
    }
  },
  "cells": [
    {
      "cell_type": "markdown",
      "source": [
        "# Mastering Big Data with PySpark on Google Colab\n",
        "---\n",
        "\n",
        "> [Meduim](https://medium.com/@siladityaghosh/mastering-big-data-with-pyspark-on-google-colab-d3c924264ceb#:~:text=While%20local%20setups%20can%20be,on%20the%20ease%20of%20setup)"
      ],
      "metadata": {
        "id": "3HHVrH0s97nI"
      }
    },
    {
      "cell_type": "code",
      "execution_count": null,
      "metadata": {
        "colab": {
          "base_uri": "https://localhost:8080/"
        },
        "id": "Utt7VP4tujg6",
        "outputId": "247e9b6c-e204-434c-e70e-2aafa96fec4e"
      },
      "outputs": [
        {
          "output_type": "stream",
          "name": "stdout",
          "text": [
            "Collecting findspark\n",
            "  Downloading findspark-2.0.1-py2.py3-none-any.whl.metadata (352 bytes)\n",
            "Downloading findspark-2.0.1-py2.py3-none-any.whl (4.4 kB)\n",
            "Installing collected packages: findspark\n",
            "Successfully installed findspark-2.0.1\n"
          ]
        }
      ],
      "source": [
        "!pip install findspark"
      ]
    },
    {
      "cell_type": "code",
      "source": [
        "import findspark\n",
        "findspark.init()"
      ],
      "metadata": {
        "id": "b-NhbTUQuqLj"
      },
      "execution_count": null,
      "outputs": []
    },
    {
      "cell_type": "code",
      "source": [
        "from pyspark.sql import SparkSession\n",
        "spark = SparkSession.builder.appName(\"YourAppName\").getOrCreate()"
      ],
      "metadata": {
        "id": "RWGWJvpquwrn"
      },
      "execution_count": null,
      "outputs": []
    },
    {
      "cell_type": "code",
      "source": [
        "df_2 = spark.createDataFrame(\n",
        "    [\n",
        "        (\"linha 1\", 1, 10, 23),\n",
        "        (\"linha 2\", 2, 11, 25),\n",
        "        (\"linha 3\", 3, 12, 12),\n",
        "        (\"linha 4\", 4, 13, 4),\n",
        "        (\"linha 5\", 5, 14, 5)\n",
        "    ],\n",
        "    [\"Linha\", \"jan/22\", \"fev/22\", \"mar/22\"]\n",
        ")"
      ],
      "metadata": {
        "id": "DYyWmvyQuzdU"
      },
      "execution_count": null,
      "outputs": []
    },
    {
      "cell_type": "code",
      "source": [
        "\n",
        "df_2.show()"
      ],
      "metadata": {
        "colab": {
          "base_uri": "https://localhost:8080/"
        },
        "id": "Gh0Z_06kvgbx",
        "outputId": "cb1911f9-aa13-4706-f041-dbc65e0ec68a"
      },
      "execution_count": null,
      "outputs": [
        {
          "output_type": "stream",
          "name": "stdout",
          "text": [
            "+-------+------+------+------+\n",
            "|  Linha|jan/22|fev/22|mar/22|\n",
            "+-------+------+------+------+\n",
            "|linha 1|     1|    10|    23|\n",
            "|linha 2|     2|    11|    25|\n",
            "|linha 3|     3|    12|    12|\n",
            "|linha 4|     4|    13|     4|\n",
            "|linha 5|     5|    14|     5|\n",
            "+-------+------+------+------+\n",
            "\n"
          ]
        }
      ]
    },
    {
      "cell_type": "code",
      "source": [
        "df_2.createOrReplaceTempView(\"sql_sf\")"
      ],
      "metadata": {
        "id": "U2bLI_xXviH2"
      },
      "execution_count": null,
      "outputs": []
    },
    {
      "cell_type": "code",
      "source": [
        "spark.sql(\"\"\"\n",
        "\n",
        "select *\n",
        "from sql_sf\n",
        "\n",
        "\"\"\").show()"
      ],
      "metadata": {
        "colab": {
          "base_uri": "https://localhost:8080/"
        },
        "id": "FR1Ab6mJwC0z",
        "outputId": "c569c11d-d649-4beb-b2b3-f83952efbafa"
      },
      "execution_count": null,
      "outputs": [
        {
          "output_type": "stream",
          "name": "stdout",
          "text": [
            "+-------+------+------+------+\n",
            "|  Linha|jan/22|fev/22|mar/22|\n",
            "+-------+------+------+------+\n",
            "|linha 1|     1|    10|    23|\n",
            "|linha 2|     2|    11|    25|\n",
            "|linha 3|     3|    12|    12|\n",
            "|linha 4|     4|    13|     4|\n",
            "|linha 5|     5|    14|     5|\n",
            "+-------+------+------+------+\n",
            "\n"
          ]
        }
      ]
    },
    {
      "cell_type": "code",
      "source": [],
      "metadata": {
        "id": "33L7Kmt5wKxo"
      },
      "execution_count": null,
      "outputs": []
    }
  ]
}